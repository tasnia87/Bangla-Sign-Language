{
  "nbformat": 4,
  "nbformat_minor": 0,
  "metadata": {
    "kernelspec": {
      "display_name": "Python 3",
      "language": "python",
      "name": "python3"
    },
    "language_info": {
      "codemirror_mode": {
        "name": "ipython",
        "version": 3
      },
      "file_extension": ".py",
      "mimetype": "text/x-python",
      "name": "python",
      "nbconvert_exporter": "python",
      "pygments_lexer": "ipython3",
      "version": "3.6.5"
    },
    "colab": {
      "name": "image_load.ipynb",
      "provenance": [],
      "include_colab_link": true
    }
  },
  "cells": [
    {
      "cell_type": "markdown",
      "metadata": {
        "id": "view-in-github",
        "colab_type": "text"
      },
      "source": [
        "<a href=\"https://colab.research.google.com/github/tasnia87/Bangla-Sign-Language/blob/master/image_load.ipynb\" target=\"_parent\"><img src=\"https://colab.research.google.com/assets/colab-badge.svg\" alt=\"Open In Colab\"/></a>"
      ]
    },
    {
      "cell_type": "code",
      "metadata": {
        "id": "DZfgVTeGpLT6"
      },
      "source": [
        "import cv2, os\n",
        "import numpy as np\n",
        "import random\n",
        "from sklearn.utils import shuffle\n",
        "import pickle"
      ],
      "execution_count": null,
      "outputs": []
    },
    {
      "cell_type": "code",
      "metadata": {
        "id": "TeIYh2jKpLUA"
      },
      "source": [
        "def pickle_images_labels():\n",
        "\tgest_folder = \"gestures\"\n",
        "\timages_labels = []\n",
        "\timages = []\n",
        "\tlabels = []\n",
        "\tfor g_id in os.listdir(gest_folder):\n",
        "\t\tfor i in range(100):\n",
        "\t\t\timg = cv2.imread(gest_folder+\"/\"+g_id+\"/\"+str(i+1)+\".JPG\", 0)\n",
        "\t\t\tif np.any(img == None):\n",
        "\t\t\t\tcontinue\n",
        "\t\t\timages_labels.append((np.array(img, dtype=np.float32), int(g_id)))\n",
        "\treturn images_labels\n",
        "\n",
        "def split_images_labels(images_labels):\n",
        "\timages = []\n",
        "\tlabels = []\n",
        "\tfor (image, label) in images_labels:\n",
        "\t\timages.append(image)\n",
        "\t\tlabels.append(label)\n",
        "\treturn images, labels"
      ],
      "execution_count": null,
      "outputs": []
    },
    {
      "cell_type": "code",
      "metadata": {
        "id": "JpVsJH3NpLUB",
        "outputId": "501dc466-cae7-4435-a4ca-98297e5a270a"
      },
      "source": [
        "images_labels = pickle_images_labels()\n",
        "images_labels = shuffle(shuffle(shuffle(images_labels)))\n",
        "images, labels = split_images_labels(images_labels)\n",
        "print(\"Length of images_labels\", len(images_labels))\n",
        "\n",
        "train_images = images[:int(5/6*len(images))]\n",
        "print(\"Length of train_images\", len(train_images))\n",
        "with open(\"train_images\", \"wb\") as f:\n",
        "\tpickle.dump(train_images, f)\n",
        "del train_images\n",
        "\n",
        "train_labels = labels[:int(5/6*len(labels))]\n",
        "print(\"Length of train_labels\", len(train_labels))\n",
        "with open(\"train_labels\", \"wb\") as f:\n",
        "\tpickle.dump(train_labels, f)\n",
        "del train_labels\n",
        "\n",
        "test_images = images[int(5/6*len(images)):]\n",
        "print(\"Length of test_images\", len(test_images))\n",
        "with open(\"test_images\", \"wb\") as f:\n",
        "\tpickle.dump(test_images, f)\n",
        "del test_images\n",
        "\n",
        "test_labels = labels[int(5/6*len(labels)):]\n",
        "print(\"Length of test_labels\", len(test_labels))\n",
        "with open(\"test_labels\", \"wb\") as f:\n",
        "\tpickle.dump(test_labels, f)"
      ],
      "execution_count": null,
      "outputs": [
        {
          "output_type": "stream",
          "text": [
            "Length of images_labels 1000\n",
            "Length of train_images 833\n",
            "Length of train_labels 833\n",
            "Length of test_images 167\n",
            "Length of test_labels 167\n"
          ],
          "name": "stdout"
        }
      ]
    },
    {
      "cell_type": "code",
      "metadata": {
        "id": "VUWvRq0cpLUD"
      },
      "source": [
        ""
      ],
      "execution_count": null,
      "outputs": []
    }
  ]
}