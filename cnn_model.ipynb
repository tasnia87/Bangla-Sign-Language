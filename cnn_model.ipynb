{
  "nbformat": 4,
  "nbformat_minor": 0,
  "metadata": {
    "colab": {
      "name": "cnn_model.ipynb",
      "provenance": [],
      "include_colab_link": true
    },
    "kernelspec": {
      "display_name": "Python 3",
      "language": "python",
      "name": "python3"
    }
  },
  "cells": [
    {
      "cell_type": "markdown",
      "metadata": {
        "id": "view-in-github",
        "colab_type": "text"
      },
      "source": [
        "<a href=\"https://colab.research.google.com/github/tasnia87/Bangla-Sign-Language/blob/master/cnn_model.ipynb\" target=\"_parent\"><img src=\"https://colab.research.google.com/assets/colab-badge.svg\" alt=\"Open In Colab\"/></a>"
      ]
    },
    {
      "cell_type": "code",
      "metadata": {
        "id": "NQtWaYRsG_Ju"
      },
      "source": [
        "import numpy as np\n",
        "import pickle\n",
        "import cv2, os\n",
        "from keras import optimizers\n",
        "from keras.models import Sequential\n",
        "from keras.layers import Dense\n",
        "from keras.layers import Dropout\n",
        "from keras.layers import Flatten\n",
        "from keras.layers.convolutional import Conv2D\n",
        "from keras.layers.convolutional import MaxPooling2D\n",
        "from keras.utils import np_utils\n",
        "from keras.callbacks import ModelCheckpoint\n",
        "from keras import backend as K"
      ],
      "execution_count": null,
      "outputs": []
    },
    {
      "cell_type": "code",
      "metadata": {
        "id": "XF82BTQuG_Jy"
      },
      "source": [
        "K.set_image_dim_ordering('tf')\n",
        "\n",
        "os.environ['TF_CPP_MIN_LOG_LEVEL'] = '3'\n",
        "\n",
        "def get_image_size():\n",
        "\timg = cv2.imread('gestures/0/1.JPG', 0)\n",
        "\treturn img.shape\n",
        "\n",
        "def get_num_of_classes():\n",
        "\treturn len(os.listdir('gestures/'))\n",
        "\n",
        "image_x, image_y = get_image_size()"
      ],
      "execution_count": null,
      "outputs": []
    },
    {
      "cell_type": "code",
      "metadata": {
        "id": "sJ_i0YaRG_J1"
      },
      "source": [
        "def cnn_model():\n",
        "\tnum_of_classes = get_num_of_classes()\n",
        "\tmodel = Sequential()\n",
        "\tmodel.add(Conv2D(32, (5,5), input_shape=(image_x, image_y, 1), activation='sigmoid'))\n",
        "\tmodel.add(MaxPooling2D(pool_size=(2, 2), strides=(2, 2), padding='same'))\n",
        "\tmodel.add(Conv2D(64, (5,5), activation='sigmoid'))\n",
        "\tmodel.add(MaxPooling2D(pool_size=(5, 5), strides=(5, 5), padding='same'))\n",
        "\tmodel.add(Flatten())\n",
        "\tmodel.add(Dense(1024, activation='relu'))\n",
        "\tmodel.add(Dropout(0.6))\n",
        "\tmodel.add(Dense(num_of_classes, activation='softmax'))\n",
        "\tsgd = optimizers.SGD(lr=1e-2)\n",
        "\tmodel.compile(loss='categorical_crossentropy', optimizer=sgd, metrics=['accuracy'])\n",
        "\tfilepath=\"cnn_model_keras2.h5\"\n",
        "\tcheckpoint1 = ModelCheckpoint(filepath, monitor='val_acc', verbose=1, save_best_only=True, mode='max')\n",
        "\t#checkpoint2 = ModelCheckpoint(filepath, monitor='val_loss', verbose=1, save_best_only=True, mode='min')\n",
        "\tcallbacks_list = [checkpoint1]\n",
        "\treturn model, callbacks_list"
      ],
      "execution_count": null,
      "outputs": []
    },
    {
      "cell_type": "code",
      "metadata": {
        "id": "kFVk3957G_J3"
      },
      "source": [
        "def train():\n",
        "\twith open(\"train_images\", \"rb\") as f:\n",
        "\t\ttrain_images = np.array(pickle.load(f))\n",
        "\twith open(\"train_labels\", \"rb\") as f:\n",
        "\t\ttrain_labels = np.array(pickle.load(f), dtype=np.int32)\n",
        "\n",
        "\twith open(\"test_images\", \"rb\") as f:\n",
        "\t\ttest_images = np.array(pickle.load(f))\n",
        "\twith open(\"test_labels\", \"rb\") as f:\n",
        "\t\ttest_labels = np.array(pickle.load(f), dtype=np.int32)\n",
        "\n",
        "\ttrain_images = np.reshape(train_images, (train_images.shape[0], image_x, image_y, 1))\n",
        "\ttest_images = np.reshape(test_images, (test_images.shape[0], image_x, image_y, 1))\n",
        "\ttrain_labels = np_utils.to_categorical(train_labels)\n",
        "\ttest_labels = np_utils.to_categorical(test_labels)\n",
        "\n",
        "\tmodel, callbacks_list = cnn_model()\n",
        "\tmodel.fit(train_images, train_labels, validation_data=(test_images, test_labels), epochs=500, batch_size=100, callbacks=callbacks_list)\n",
        "\tscores = model.evaluate(test_images, test_labels, verbose=0)\n",
        "\tprint(\"CNN Error: %.2f%%\" % (100-scores[1]*100))\n",
        "\t#model.save('cnn_model_keras2.h5')"
      ],
      "execution_count": null,
      "outputs": []
    },
    {
      "cell_type": "code",
      "metadata": {
        "id": "8G7Vsb0NG_J5",
        "outputId": "db756ced-7814-4945-f531-68e63d5365d9"
      },
      "source": [
        "train()\n",
        "K.clear_session();"
      ],
      "execution_count": null,
      "outputs": [
        {
          "output_type": "stream",
          "text": [
            "Train on 833 samples, validate on 167 samples\n",
            "Epoch 1/500\n",
            "833/833 [==============================] - 22s 27ms/step - loss: 2.9328 - acc: 0.1188 - val_loss: 2.3755 - val_acc: 0.1018\n",
            "\n",
            "Epoch 00001: val_acc improved from -inf to 0.10180, saving model to cnn_model_keras2.h5\n",
            "Epoch 2/500\n",
            "833/833 [==============================] - 21s 25ms/step - loss: 2.4077 - acc: 0.1176 - val_loss: 2.3136 - val_acc: 0.1018\n",
            "\n",
            "Epoch 00002: val_acc improved from 0.10180 to 0.10180, saving model to cnn_model_keras2.h5\n",
            "Epoch 3/500\n",
            "833/833 [==============================] - 21s 26ms/step - loss: 2.3202 - acc: 0.1273 - val_loss: 2.2186 - val_acc: 0.1198\n",
            "\n",
            "Epoch 00003: val_acc improved from 0.10180 to 0.11976, saving model to cnn_model_keras2.h5\n",
            "Epoch 4/500\n",
            "833/833 [==============================] - 20s 24ms/step - loss: 2.2326 - acc: 0.1861 - val_loss: 2.2621 - val_acc: 0.1437\n",
            "\n",
            "Epoch 00004: val_acc improved from 0.11976 to 0.14371, saving model to cnn_model_keras2.h5\n",
            "Epoch 5/500\n",
            "833/833 [==============================] - 21s 25ms/step - loss: 2.2433 - acc: 0.1801 - val_loss: 2.2076 - val_acc: 0.0898\n",
            "\n",
            "Epoch 00005: val_acc did not improve from 0.14371\n",
            "Epoch 6/500\n",
            "833/833 [==============================] - 21s 25ms/step - loss: 2.1744 - acc: 0.2413 - val_loss: 2.3060 - val_acc: 0.0719\n",
            "\n",
            "Epoch 00006: val_acc did not improve from 0.14371\n",
            "Epoch 7/500\n",
            "833/833 [==============================] - 21s 25ms/step - loss: 2.1530 - acc: 0.2293 - val_loss: 2.2175 - val_acc: 0.1497\n",
            "\n",
            "Epoch 00007: val_acc improved from 0.14371 to 0.14970, saving model to cnn_model_keras2.h5\n",
            "Epoch 8/500\n",
            "833/833 [==============================] - 20s 24ms/step - loss: 2.1120 - acc: 0.2401 - val_loss: 2.0730 - val_acc: 0.2575\n",
            "\n",
            "Epoch 00008: val_acc improved from 0.14970 to 0.25749, saving model to cnn_model_keras2.h5\n",
            "Epoch 9/500\n",
            "833/833 [==============================] - 21s 26ms/step - loss: 2.0618 - acc: 0.3109 - val_loss: 2.0305 - val_acc: 0.3054\n",
            "\n",
            "Epoch 00009: val_acc improved from 0.25749 to 0.30539, saving model to cnn_model_keras2.h5\n",
            "Epoch 10/500\n",
            "833/833 [==============================] - 20s 24ms/step - loss: 2.0247 - acc: 0.3061 - val_loss: 2.0237 - val_acc: 0.2754\n",
            "\n",
            "Epoch 00010: val_acc did not improve from 0.30539\n",
            "Epoch 11/500\n",
            "833/833 [==============================] - 20s 24ms/step - loss: 1.9540 - acc: 0.3685 - val_loss: 1.8596 - val_acc: 0.4910\n",
            "\n",
            "Epoch 00011: val_acc improved from 0.30539 to 0.49102, saving model to cnn_model_keras2.h5\n",
            "Epoch 12/500\n",
            "833/833 [==============================] - 20s 24ms/step - loss: 1.8423 - acc: 0.4214 - val_loss: 1.8112 - val_acc: 0.3653\n",
            "\n",
            "Epoch 00012: val_acc did not improve from 0.49102\n",
            "Epoch 13/500\n",
            "833/833 [==============================] - 21s 25ms/step - loss: 1.8223 - acc: 0.3998 - val_loss: 1.7543 - val_acc: 0.3653\n",
            "\n",
            "Epoch 00013: val_acc did not improve from 0.49102\n",
            "Epoch 14/500\n",
            "833/833 [==============================] - 25s 30ms/step - loss: 1.7679 - acc: 0.4022 - val_loss: 1.6904 - val_acc: 0.3713\n",
            "\n",
            "Epoch 00014: val_acc did not improve from 0.49102\n",
            "Epoch 15/500\n",
            "833/833 [==============================] - 25s 30ms/step - loss: 1.6593 - acc: 0.4454 - val_loss: 1.6884 - val_acc: 0.3413\n",
            "\n",
            "Epoch 00015: val_acc did not improve from 0.49102\n",
            "Epoch 16/500\n",
            "833/833 [==============================] - 24s 29ms/step - loss: 1.5966 - acc: 0.4694 - val_loss: 1.6680 - val_acc: 0.3653\n",
            "\n",
            "Epoch 00016: val_acc did not improve from 0.49102\n",
            "Epoch 17/500\n",
            "833/833 [==============================] - 20s 24ms/step - loss: 1.5693 - acc: 0.4730 - val_loss: 1.5776 - val_acc: 0.4551\n",
            "\n",
            "Epoch 00017: val_acc did not improve from 0.49102\n",
            "Epoch 18/500\n",
            "833/833 [==============================] - 23s 27ms/step - loss: 1.4863 - acc: 0.5126 - val_loss: 1.4137 - val_acc: 0.5449\n",
            "\n",
            "Epoch 00018: val_acc improved from 0.49102 to 0.54491, saving model to cnn_model_keras2.h5\n",
            "Epoch 19/500\n",
            "833/833 [==============================] - 21s 26ms/step - loss: 1.4185 - acc: 0.5306 - val_loss: 1.3700 - val_acc: 0.5509\n",
            "\n",
            "Epoch 00019: val_acc improved from 0.54491 to 0.55090, saving model to cnn_model_keras2.h5\n",
            "Epoch 20/500\n",
            "833/833 [==============================] - 21s 25ms/step - loss: 1.3924 - acc: 0.5330 - val_loss: 1.2409 - val_acc: 0.6048\n",
            "\n",
            "Epoch 00020: val_acc improved from 0.55090 to 0.60479, saving model to cnn_model_keras2.h5\n",
            "Epoch 21/500\n",
            "833/833 [==============================] - 21s 25ms/step - loss: 1.2976 - acc: 0.5906 - val_loss: 1.2872 - val_acc: 0.4850\n",
            "\n",
            "Epoch 00021: val_acc did not improve from 0.60479\n",
            "Epoch 22/500\n",
            "833/833 [==============================] - 21s 25ms/step - loss: 1.3269 - acc: 0.5534 - val_loss: 1.2089 - val_acc: 0.6168\n",
            "\n",
            "Epoch 00022: val_acc improved from 0.60479 to 0.61677, saving model to cnn_model_keras2.h5\n",
            "Epoch 23/500\n",
            "833/833 [==============================] - 21s 25ms/step - loss: 1.2424 - acc: 0.5810 - val_loss: 1.2009 - val_acc: 0.5629\n",
            "\n",
            "Epoch 00023: val_acc did not improve from 0.61677\n",
            "Epoch 24/500\n",
            "833/833 [==============================] - 19s 23ms/step - loss: 1.2204 - acc: 0.6110 - val_loss: 1.2083 - val_acc: 0.5569\n",
            "\n",
            "Epoch 00024: val_acc did not improve from 0.61677\n",
            "Epoch 25/500\n",
            "833/833 [==============================] - 21s 26ms/step - loss: 1.1789 - acc: 0.6110 - val_loss: 1.0969 - val_acc: 0.6467\n",
            "\n",
            "Epoch 00025: val_acc improved from 0.61677 to 0.64671, saving model to cnn_model_keras2.h5\n",
            "Epoch 26/500\n",
            "833/833 [==============================] - 19s 23ms/step - loss: 1.1366 - acc: 0.6134 - val_loss: 1.0878 - val_acc: 0.6766\n",
            "\n",
            "Epoch 00026: val_acc improved from 0.64671 to 0.67665, saving model to cnn_model_keras2.h5\n",
            "Epoch 27/500\n",
            "833/833 [==============================] - 20s 24ms/step - loss: 1.0938 - acc: 0.6435 - val_loss: 1.0535 - val_acc: 0.6407\n",
            "\n",
            "Epoch 00027: val_acc did not improve from 0.67665\n",
            "Epoch 28/500\n",
            "833/833 [==============================] - 19s 23ms/step - loss: 1.1012 - acc: 0.6291 - val_loss: 1.0690 - val_acc: 0.6228\n",
            "\n",
            "Epoch 00028: val_acc did not improve from 0.67665\n",
            "Epoch 29/500\n",
            "700/833 [========================>.....] - ETA: 2s - loss: 1.0953 - acc: 0.6200"
          ],
          "name": "stdout"
        }
      ]
    },
    {
      "cell_type": "code",
      "metadata": {
        "id": "PwLQBy5YG_J-",
        "outputId": "349238e9-3580-456f-8fd9-c5edd761bff4"
      },
      "source": [
        "import tensorflow\n",
        "print(tensorflow.__version__)"
      ],
      "execution_count": null,
      "outputs": [
        {
          "output_type": "stream",
          "text": [
            "1.8.0\n"
          ],
          "name": "stdout"
        }
      ]
    },
    {
      "cell_type": "code",
      "metadata": {
        "id": "YVFATnklG_KC"
      },
      "source": [
        ""
      ],
      "execution_count": null,
      "outputs": []
    }
  ]
}